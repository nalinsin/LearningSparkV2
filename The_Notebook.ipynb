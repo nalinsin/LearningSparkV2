{
  "nbformat": 4,
  "nbformat_minor": 0,
  "metadata": {
    "colab": {
      "name": "The_Notebook.ipynb",
      "provenance": [],
      "collapsed_sections": [],
      "include_colab_link": true
    },
    "kernelspec": {
      "name": "python3",
      "display_name": "Python 3"
    }
  },
  "cells": [
    {
      "cell_type": "markdown",
      "metadata": {
        "id": "view-in-github",
        "colab_type": "text"
      },
      "source": [
        "<a href=\"https://colab.research.google.com/github/nalinsin/LearningSparkV2/blob/master/The_Notebook.ipynb\" target=\"_parent\"><img src=\"https://colab.research.google.com/assets/colab-badge.svg\" alt=\"Open In Colab\"/></a>"
      ]
    },
    {
      "cell_type": "markdown",
      "metadata": {
        "id": "jPyDpDqvZuLo"
      },
      "source": [
        "# **Welcome to the Notebook**"
      ]
    },
    {
      "cell_type": "markdown",
      "metadata": {
        "id": "F2YNhXuUwGNl"
      },
      "source": [
        "### Let's mount the google drive "
      ]
    },
    {
      "cell_type": "code",
      "metadata": {
        "id": "MmQC7J5cvkzE",
        "colab": {
          "base_uri": "https://localhost:8080/"
        },
        "outputId": "8bed69c1-916a-43bc-fa47-b24b9d20f854"
      },
      "source": [
        "from google.colab import drive\n",
        "drive.mount('/content/drive')"
      ],
      "execution_count": 2,
      "outputs": [
        {
          "output_type": "stream",
          "name": "stdout",
          "text": [
            "Drive already mounted at /content/drive; to attempt to forcibly remount, call drive.mount(\"/content/drive\", force_remount=True).\n"
          ]
        }
      ]
    },
    {
      "cell_type": "markdown",
      "metadata": {
        "id": "cs9EInKyWicZ"
      },
      "source": [
        "# Task 1 : \n",
        "Installing pyspark module"
      ]
    },
    {
      "cell_type": "code",
      "metadata": {
        "id": "LJq2nzUKWujx",
        "colab": {
          "base_uri": "https://localhost:8080/"
        },
        "outputId": "cc553ad3-5a9e-408d-c7ac-ea72511f646f"
      },
      "source": [
        "!pip install pyspark"
      ],
      "execution_count": 3,
      "outputs": [
        {
          "output_type": "stream",
          "name": "stdout",
          "text": [
            "Collecting pyspark\n",
            "  Downloading pyspark-3.2.1.tar.gz (281.4 MB)\n",
            "\u001b[K     |████████████████████████████████| 281.4 MB 34 kB/s \n",
            "\u001b[?25hCollecting py4j==0.10.9.3\n",
            "  Downloading py4j-0.10.9.3-py2.py3-none-any.whl (198 kB)\n",
            "\u001b[K     |████████████████████████████████| 198 kB 66.0 MB/s \n",
            "\u001b[?25hBuilding wheels for collected packages: pyspark\n",
            "  Building wheel for pyspark (setup.py) ... \u001b[?25l\u001b[?25hdone\n",
            "  Created wheel for pyspark: filename=pyspark-3.2.1-py2.py3-none-any.whl size=281853642 sha256=982c1144762e9943de406b150c40a28aabff2adb444c617f4e28280e29149e05\n",
            "  Stored in directory: /root/.cache/pip/wheels/9f/f5/07/7cd8017084dce4e93e84e92efd1e1d5334db05f2e83bcef74f\n",
            "Successfully built pyspark\n",
            "Installing collected packages: py4j, pyspark\n",
            "Successfully installed py4j-0.10.9.3 pyspark-3.2.1\n"
          ]
        }
      ]
    },
    {
      "cell_type": "markdown",
      "metadata": {
        "id": "dVNAlw2jWiWb"
      },
      "source": [
        "Importing the modules "
      ]
    },
    {
      "cell_type": "code",
      "metadata": {
        "id": "gS3YIWJiW7I3"
      },
      "source": [
        "from pyspark.sql import SparkSession\n",
        "from pyspark.sql.functions import count, desc , col, max, struct\n",
        "import matplotlib.pyplot as plts"
      ],
      "execution_count": 4,
      "outputs": []
    },
    {
      "cell_type": "markdown",
      "metadata": {
        "id": "RKuIUYLwSkNP"
      },
      "source": [
        "creating spark session"
      ]
    },
    {
      "cell_type": "code",
      "metadata": {
        "id": "XXSZBvRgSnCN",
        "cellView": "both"
      },
      "source": [
        "spark = SparkSession.builder.appName('colab_notebook').getOrCreate()"
      ],
      "execution_count": 5,
      "outputs": []
    },
    {
      "cell_type": "markdown",
      "metadata": {
        "id": "vv_SKqr8T9mT"
      },
      "source": [
        "# Task 2 : \n",
        "importing the *Listenings.csv* file: "
      ]
    },
    {
      "cell_type": "code",
      "metadata": {
        "id": "gK22lJDRTuKY"
      },
      "source": [
        "#filee='C:\\Users\\barclays\\Downloads\\genre.csv'\n",
        "#filee='C:/Users/barclays/Downloads/genre.csv'\n",
        "listening_df = spark.read.format(\"csv\").options(inferSchema='True',header='True').load(\"/content/drive/MyDrive/dataset/listenings.csv\")"
      ],
      "execution_count": 6,
      "outputs": []
    },
    {
      "cell_type": "markdown",
      "metadata": {
        "id": "s1i6KVshykdn"
      },
      "source": [
        "let's check the data:"
      ]
    },
    {
      "cell_type": "code",
      "metadata": {
        "id": "5Ji0zViUyjUE",
        "colab": {
          "base_uri": "https://localhost:8080/"
        },
        "outputId": "7a253eab-ad7b-4953-f536-0f03394d622b"
      },
      "source": [
        "listening_df.show()"
      ],
      "execution_count": 7,
      "outputs": [
        {
          "output_type": "stream",
          "name": "stdout",
          "text": [
            "+-----------+-------------+--------------------+---------------+--------------------+\n",
            "|    user_id|         date|               track|         artist|               album|\n",
            "+-----------+-------------+--------------------+---------------+--------------------+\n",
            "|000Silenced|1299680100000|           Price Tag|       Jessie J|         Who You Are|\n",
            "|000Silenced|1299679920000|Price Tag (Acoust...|       Jessie J|           Price Tag|\n",
            "|000Silenced|1299679440000|Be Mine! (Ballad ...|          Robyn|            Be Mine!|\n",
            "|000Silenced|1299679200000|            Acapella|          Kelis|            Acapella|\n",
            "|000Silenced|1299675660000|   I'm Not Invisible|      The Tease|   I'm Not Invisible|\n",
            "|000Silenced|1297511400000|Bounce (Feat NORE...|       MSTRKRFT|         Fist of God|\n",
            "|000Silenced|1294498440000|Don't Stop The Mu...|        Rihanna|Addicted 2 Bassli...|\n",
            "|000Silenced|1292438340000|               ObZen|      Meshuggah|               ObZen|\n",
            "|000Silenced|1292437740000|   Yama's Messengers|         Gojira|The Way of All Flesh|\n",
            "|000Silenced|1292436360000|On the Brink of E...|   Napalm Death|Time Waits For No...|\n",
            "|000Silenced|1292436360000|On the Brink of E...|   Napalm Death|Time Waits For No...|\n",
            "|000Silenced|1292435940000|        In Deference|   Napalm Death|      Smear Campaign|\n",
            "|000Silenced|1292434920000|      Post(?)organic|    Decapitated|Organic Hallucinosis|\n",
            "|000Silenced|1292434560000|        Mind Feeders|   Dom & Roland| No Strings Attached|\n",
            "|000Silenced|1292434320000|Necrosadistic War...|Cannibal Corpse|                Kill|\n",
            "|000Silenced|1292365560000|     Dance All Night|   Dom & Roland|          Chronology|\n",
            "|000Silenced|1292365260000|          Late Night|   Dom & Roland|          Chronology|\n",
            "|000Silenced|1292365020000|          Freak Seen|   Dom & Roland|          Chronology|\n",
            "|000Silenced|1292364720000|Paradrenasite (Hi...|   Dom & Roland|          Chronology|\n",
            "|000Silenced|1292364300000|               Rhino|   Dom & Roland|          Chronology|\n",
            "+-----------+-------------+--------------------+---------------+--------------------+\n",
            "only showing top 20 rows\n",
            "\n"
          ]
        }
      ]
    },
    {
      "cell_type": "markdown",
      "metadata": {
        "id": "HS6wd2d_woNC"
      },
      "source": [
        "let's delete useless columns:"
      ]
    },
    {
      "cell_type": "code",
      "metadata": {
        "id": "pIMzBAglwtNP"
      },
      "source": [
        "listening_df = listening_df.drop(\"date\")"
      ],
      "execution_count": 37,
      "outputs": []
    },
    {
      "cell_type": "markdown",
      "metadata": {
        "id": "MwpJJeWa4qmn"
      },
      "source": [
        "drop the null rows:"
      ]
    },
    {
      "cell_type": "code",
      "metadata": {
        "id": "Botf6-Vb4uqs"
      },
      "source": [
        "listening_df = listening_df.na.drop()"
      ],
      "execution_count": 38,
      "outputs": []
    },
    {
      "cell_type": "markdown",
      "metadata": {
        "id": "tTN6jr3K4xkF"
      },
      "source": [
        "let's check the dataset again:"
      ]
    },
    {
      "cell_type": "code",
      "metadata": {
        "id": "JDp_rdEY40u3",
        "colab": {
          "base_uri": "https://localhost:8080/"
        },
        "outputId": "0bcd8b66-c88c-40d2-a94e-0d36e8b75156"
      },
      "source": [
        "listening_df.count()"
      ],
      "execution_count": 13,
      "outputs": [
        {
          "output_type": "execute_result",
          "data": {
            "text/plain": [
              "13758905"
            ]
          },
          "metadata": {},
          "execution_count": 13
        }
      ]
    },
    {
      "cell_type": "markdown",
      "metadata": {
        "id": "Z7nKCYoZltnv"
      },
      "source": [
        "let's see the schema: "
      ]
    },
    {
      "cell_type": "code",
      "metadata": {
        "id": "qVg1jt1OyWdh",
        "colab": {
          "base_uri": "https://localhost:8080/"
        },
        "outputId": "96f01eeb-a024-414c-f2b6-fe0b150ea8f5"
      },
      "source": [
        "listening_df.printSchema()"
      ],
      "execution_count": 39,
      "outputs": [
        {
          "output_type": "stream",
          "name": "stdout",
          "text": [
            "root\n",
            " |-- user_id: string (nullable = true)\n",
            " |-- track: string (nullable = true)\n",
            " |-- artist: string (nullable = true)\n",
            " |-- album: string (nullable = true)\n",
            "\n"
          ]
        }
      ]
    },
    {
      "cell_type": "markdown",
      "metadata": {
        "id": "JMkQsQt2xSb5"
      },
      "source": [
        "let's see the shape of our dataframe: "
      ]
    },
    {
      "cell_type": "code",
      "metadata": {
        "id": "6POkV3YFmh6b",
        "colab": {
          "base_uri": "https://localhost:8080/"
        },
        "outputId": "ae205f6d-075d-406d-c327-8bf60685b2be"
      },
      "source": [
        "listening_df.cache()"
      ],
      "execution_count": 22,
      "outputs": [
        {
          "output_type": "execute_result",
          "data": {
            "text/plain": [
              "DataFrame[user_id: string, date: bigint, track: string, artist: string, album: string]"
            ]
          },
          "metadata": {},
          "execution_count": 22
        }
      ]
    },
    {
      "cell_type": "markdown",
      "metadata": {
        "id": "XMD0DhFl2FEJ"
      },
      "source": [
        "# Task 3:\n",
        "\n",
        "**Query #0:**\n",
        "select two columns: track and artist"
      ]
    },
    {
      "cell_type": "code",
      "metadata": {
        "id": "FZTdA5wn2TZy",
        "colab": {
          "base_uri": "https://localhost:8080/"
        },
        "outputId": "174b44a9-de2a-4005-885c-b98345f40bc4"
      },
      "source": [
        "listening_df.select('track','artist').show()"
      ],
      "execution_count": 15,
      "outputs": [
        {
          "output_type": "stream",
          "name": "stdout",
          "text": [
            "+--------------------+---------------+\n",
            "|               track|         artist|\n",
            "+--------------------+---------------+\n",
            "|           Price Tag|       Jessie J|\n",
            "|Price Tag (Acoust...|       Jessie J|\n",
            "|Be Mine! (Ballad ...|          Robyn|\n",
            "|            Acapella|          Kelis|\n",
            "|   I'm Not Invisible|      The Tease|\n",
            "|Bounce (Feat NORE...|       MSTRKRFT|\n",
            "|Don't Stop The Mu...|        Rihanna|\n",
            "|               ObZen|      Meshuggah|\n",
            "|   Yama's Messengers|         Gojira|\n",
            "|On the Brink of E...|   Napalm Death|\n",
            "|On the Brink of E...|   Napalm Death|\n",
            "|        In Deference|   Napalm Death|\n",
            "|      Post(?)organic|    Decapitated|\n",
            "|        Mind Feeders|   Dom & Roland|\n",
            "|Necrosadistic War...|Cannibal Corpse|\n",
            "|     Dance All Night|   Dom & Roland|\n",
            "|          Late Night|   Dom & Roland|\n",
            "|          Freak Seen|   Dom & Roland|\n",
            "|Paradrenasite (Hi...|   Dom & Roland|\n",
            "|               Rhino|   Dom & Roland|\n",
            "+--------------------+---------------+\n",
            "only showing top 20 rows\n",
            "\n"
          ]
        }
      ]
    },
    {
      "cell_type": "markdown",
      "metadata": {
        "id": "QRcgXOFs2hjw"
      },
      "source": [
        "**Query #1**:\n",
        "\n",
        "Let's find all of the records of those users who have listened to ***Rihanna***"
      ]
    },
    {
      "cell_type": "code",
      "metadata": {
        "id": "ICyiTMVnppLw",
        "colab": {
          "base_uri": "https://localhost:8080/"
        },
        "outputId": "f510f814-4c66-445f-8b0d-3f5e73f12705"
      },
      "source": [
        "listening_df.select('*').filter(col('artist')=='Rihanna').show()"
      ],
      "execution_count": 40,
      "outputs": [
        {
          "output_type": "stream",
          "name": "stdout",
          "text": [
            "+-----------+--------------------+-------+--------------------+\n",
            "|    user_id|               track| artist|               album|\n",
            "+-----------+--------------------+-------+--------------------+\n",
            "|000Silenced|Don't Stop The Mu...|Rihanna|Addicted 2 Bassli...|\n",
            "|000Silenced|           Disturbia|Rihanna|Good Girl Gone Ba...|\n",
            "|00williamsl|   Hatin On The Club|Rihanna|              Random|\n",
            "|00williamsl|   Hatin On The Club|Rihanna|              Random|\n",
            "|00williamsl|         Complicated|Rihanna|                Loud|\n",
            "|00williamsl|What's My Name (f...|Rihanna|                Loud|\n",
            "|00williamsl|Kanye West feat R...|Rihanna|                Loud|\n",
            "|    0502008|Only Girl (In the...|Rihanna|                Loud|\n",
            "|      0rdos|Pon De Replay (Re...|Rihanna|    Music of the Sun|\n",
            "|      0rdos|          Now I Know|Rihanna|    Music of the Sun|\n",
            "|      0rdos|There's a Thug in...|Rihanna|    Music of the Sun|\n",
            "|      0rdos|                Rush|Rihanna|    Music of the Sun|\n",
            "|      0rdos|              Let Me|Rihanna|    Music of the Sun|\n",
            "|      0rdos|    Music of the Sun|Rihanna|    Music of the Sun|\n",
            "|      0rdos|     Willing to Wait|Rihanna|    Music of the Sun|\n",
            "|      0rdos|       The Last Time|Rihanna|    Music of the Sun|\n",
            "|      0rdos|If It's Lovin' Th...|Rihanna|    Music of the Sun|\n",
            "|      0rdos|     Here I Go Again|Rihanna|    Music of the Sun|\n",
            "|      0rdos|       Pon de Replay|Rihanna|    Music of the Sun|\n",
            "|      0rdos|                 Cry|Rihanna|  Good Girl Gone Bad|\n",
            "+-----------+--------------------+-------+--------------------+\n",
            "only showing top 20 rows\n",
            "\n"
          ]
        }
      ]
    },
    {
      "cell_type": "markdown",
      "metadata": {
        "id": "I0IafeyvFU9O"
      },
      "source": [
        "**Query #2:**\n",
        "\n",
        "Let's find top 10 users who are fan of ***Rihanna***"
      ]
    },
    {
      "cell_type": "code",
      "metadata": {
        "id": "3-hM9kMm7JmI",
        "colab": {
          "base_uri": "https://localhost:8080/"
        },
        "outputId": "fe0ba0d7-6303-493d-d0f1-2cc67c7ceb29"
      },
      "source": [
        "listening_df.select('user_id').filter(col('artist')=='Rihanna').groupBy('user_id').agg(count('*').alias('counnt')).orderBy(desc('counnt')).limit(10).show()"
      ],
      "execution_count": 25,
      "outputs": [
        {
          "output_type": "stream",
          "name": "stdout",
          "text": [
            "+---------------+------+\n",
            "|        user_id|counnt|\n",
            "+---------------+------+\n",
            "|        thiessu|   179|\n",
            "|    eyessetkyle|   166|\n",
            "|           adxx|   164|\n",
            "|missnumberthree|   156|\n",
            "|helloiamnatalie|   128|\n",
            "|          nmjnb|   124|\n",
            "|        AndyyyA|   123|\n",
            "|     BIGBANG186|   121|\n",
            "|     mixedvibes|   120|\n",
            "|       AndyKitt|   115|\n",
            "+---------------+------+\n",
            "\n"
          ]
        }
      ]
    },
    {
      "cell_type": "markdown",
      "metadata": {
        "id": "hgAAl6aAcp41"
      },
      "source": [
        "**Query #3:**\n",
        "\n",
        "find top 10 famous tracks "
      ]
    },
    {
      "cell_type": "code",
      "metadata": {
        "id": "qlh3IUzfJ3_I",
        "colab": {
          "base_uri": "https://localhost:8080/"
        },
        "outputId": "2d8c8cce-ddef-4b07-888b-b1fc1deb1099"
      },
      "source": [
        "listening_df.select('track').groupBy('track').agg(count('*').alias('counnt')).orderBy(desc('counnt')).limit(10).show()"
      ],
      "execution_count": 26,
      "outputs": [
        {
          "output_type": "stream",
          "name": "stdout",
          "text": [
            "+-------+------+\n",
            "|  track|counnt|\n",
            "+-------+------+\n",
            "|  Intro| 13176|\n",
            "|   Home|  7576|\n",
            "|  Hello|  6961|\n",
            "|Hold On|  5857|\n",
            "|   Work|  4889|\n",
            "|  Sorry|  4824|\n",
            "|   Baby|  4646|\n",
            "|Runaway|  4429|\n",
            "| Closer|  4287|\n",
            "|   Fire|  4141|\n",
            "+-------+------+\n",
            "\n"
          ]
        }
      ]
    },
    {
      "cell_type": "markdown",
      "metadata": {
        "id": "HqhPhQvjeXt0"
      },
      "source": [
        "**Query #4:**\n",
        "\n",
        "find top 10 famous tracks of ***Rihanna*** "
      ]
    },
    {
      "cell_type": "code",
      "metadata": {
        "id": "D_npmdh1ec8y",
        "colab": {
          "base_uri": "https://localhost:8080/"
        },
        "outputId": "f25260ae-e8dd-4978-cd6e-20d860ca8d8d"
      },
      "source": [
        "listening_df.select('track').filter(col('artist')=='Rihanna').groupBy('track').agg(count('*').alias('counnt')).orderBy(desc('counnt')).limit(10).show()"
      ],
      "execution_count": 41,
      "outputs": [
        {
          "output_type": "stream",
          "name": "stdout",
          "text": [
            "+--------------------+------+\n",
            "|               track|counnt|\n",
            "+--------------------+------+\n",
            "|                Work|  2646|\n",
            "|Only Girl (In the...|  1749|\n",
            "|We Found Love (fe...|  1575|\n",
            "|                 S&M|  1307|\n",
            "|            Rude Boy|  1303|\n",
            "|            Diamonds|  1224|\n",
            "|      Kiss it Better|   945|\n",
            "| Where Have You Been|   844|\n",
            "|Cheers (Drink to ...|   697|\n",
            "|           Desperado|   679|\n",
            "+--------------------+------+\n",
            "\n"
          ]
        }
      ]
    },
    {
      "cell_type": "markdown",
      "metadata": {
        "id": "E6pgcH0p1ZXo"
      },
      "source": [
        "**Query #5:**\n",
        "\n",
        "find top 10 famous albums "
      ]
    },
    {
      "cell_type": "code",
      "metadata": {
        "id": "c5YHm6yKenE7",
        "colab": {
          "base_uri": "https://localhost:8080/"
        },
        "outputId": "b2463352-f594-4c31-ce0f-ad49c891be30"
      },
      "source": [
        "listening_df.select('album').groupBy('album').agg(count('*').alias('counnt')).orderBy(desc('counnt')).limit(10).show()"
      ],
      "execution_count": 30,
      "outputs": [
        {
          "output_type": "stream",
          "name": "stdout",
          "text": [
            "+--------------------+------+\n",
            "|               album|counnt|\n",
            "+--------------------+------+\n",
            "|       Greatest Hits| 67892|\n",
            "|   The Life Of Pablo| 22311|\n",
            "|                  AM| 14264|\n",
            "|                  xx| 14198|\n",
            "|     An Awesome Wave| 13673|\n",
            "|        Sigh No More| 13556|\n",
            "|Whatever People S...| 12731|\n",
            "|            For Emma| 11995|\n",
            "|          Art Angels| 11694|\n",
            "|                  21| 11576|\n",
            "+--------------------+------+\n",
            "\n"
          ]
        }
      ]
    },
    {
      "cell_type": "markdown",
      "metadata": {
        "id": "YXev8HQ57bdq"
      },
      "source": [
        "# Task 4 :\n",
        "importing the ***genre.csv*** file:"
      ]
    },
    {
      "cell_type": "code",
      "metadata": {
        "id": "tpXSrYfu14PB"
      },
      "source": [
        "genre_df=spark.read.format('csv').options(inferSchema='True', header='True').load(\"/content/drive/MyDrive/dataset/genre.csv\")"
      ],
      "execution_count": 32,
      "outputs": []
    },
    {
      "cell_type": "markdown",
      "metadata": {
        "id": "aCHSo36W9RcP"
      },
      "source": [
        "let's check the data"
      ]
    },
    {
      "cell_type": "code",
      "metadata": {
        "id": "LJu4Ouz89O6_",
        "colab": {
          "base_uri": "https://localhost:8080/"
        },
        "outputId": "ab539d4b-979a-4dc4-92f1-fd0bb88946ae"
      },
      "source": [
        "genre_df.show()\n",
        "genre_df.cache()"
      ],
      "execution_count": 33,
      "outputs": [
        {
          "output_type": "stream",
          "name": "stdout",
          "text": [
            "+--------------------+-----+\n",
            "|              artist|genre|\n",
            "+--------------------+-----+\n",
            "|                Muse| rock|\n",
            "|             Nirvana| rock|\n",
            "|            Bon Jovi| rock|\n",
            "|          The Police| rock|\n",
            "|                Kiss| rock|\n",
            "|       Guns N' Roses| rock|\n",
            "|         Rusted Root| rock|\n",
            "|Katrina and the W...|  pop|\n",
            "|         The Beatles| rock|\n",
            "|        Hall & Oates|  pop|\n",
            "|        Otis Redding| soul|\n",
            "|         Marvin Gaye| soul|\n",
            "|     The Cranberries| rock|\n",
            "|            Survivor| rock|\n",
            "|       Fleetwood Mac|blues|\n",
            "|           Radiohead| rock|\n",
            "|                Toto| rock|\n",
            "|                  U2| rock|\n",
            "|Creedence Clearwa...| rock|\n",
            "|                 REM| rock|\n",
            "+--------------------+-----+\n",
            "only showing top 20 rows\n",
            "\n"
          ]
        },
        {
          "output_type": "execute_result",
          "data": {
            "text/plain": [
              "DataFrame[artist: string, genre: string]"
            ]
          },
          "metadata": {},
          "execution_count": 33
        }
      ]
    },
    {
      "cell_type": "markdown",
      "metadata": {
        "id": "72OpWX7F98qg"
      },
      "source": [
        "Let's inner join these two data frames"
      ]
    },
    {
      "cell_type": "code",
      "source": [
        "datum_df = listening_df.join(genre_df, how='inner', on='artist')\n",
        "datum_df.cache()\n",
        "datum_df.show()"
      ],
      "metadata": {
        "colab": {
          "base_uri": "https://localhost:8080/"
        },
        "id": "L3FvIuuJnRiM",
        "outputId": "8f5dfbe2-a659-4403-d601-68924f027fd5"
      },
      "execution_count": 42,
      "outputs": [
        {
          "output_type": "stream",
          "name": "stdout",
          "text": [
            "+------------+-----------+--------------------+--------------------+--------------------+\n",
            "|      artist|    user_id|               track|               album|               genre|\n",
            "+------------+-----------+--------------------+--------------------+--------------------+\n",
            "|    Jessie J|000Silenced|           Price Tag|         Who You Are| Ariana Grande & ...|\n",
            "|    Jessie J|000Silenced|           Price Tag|         Who You Are| Jhene Aiko & Rixton|\n",
            "|    Jessie J|000Silenced|           Price Tag|         Who You Are| Nicki Minaj & Ar...|\n",
            "|    Jessie J|000Silenced|           Price Tag|         Who You Are|                 pop|\n",
            "|    Jessie J|000Silenced|Price Tag (Acoust...|           Price Tag| Ariana Grande & ...|\n",
            "|    Jessie J|000Silenced|Price Tag (Acoust...|           Price Tag| Jhene Aiko & Rixton|\n",
            "|    Jessie J|000Silenced|Price Tag (Acoust...|           Price Tag| Nicki Minaj & Ar...|\n",
            "|    Jessie J|000Silenced|Price Tag (Acoust...|           Price Tag|                 pop|\n",
            "|       Robyn|000Silenced|Be Mine! (Ballad ...|            Be Mine!|                 pop|\n",
            "|       Kelis|000Silenced|            Acapella|            Acapella|                 pop|\n",
            "|   The Tease|000Silenced|   I'm Not Invisible|   I'm Not Invisible|             hip hop|\n",
            "|    MSTRKRFT|000Silenced|Bounce (Feat NORE...|         Fist of God|          electronic|\n",
            "|     Rihanna|000Silenced|Don't Stop The Mu...|Addicted 2 Bassli...|                 SZA|\n",
            "|     Rihanna|000Silenced|Don't Stop The Mu...|Addicted 2 Bassli...| Paul McCartney &...|\n",
            "|     Rihanna|000Silenced|Don't Stop The Mu...|Addicted 2 Bassli...|          Kanye West|\n",
            "|     Rihanna|000Silenced|Don't Stop The Mu...|Addicted 2 Bassli...| Kanye West & Pau...|\n",
            "|     Rihanna|000Silenced|Don't Stop The Mu...|Addicted 2 Bassli...|                 pop|\n",
            "|   Meshuggah|000Silenced|               ObZen|               ObZen|               metal|\n",
            "|      Gojira|000Silenced|   Yama's Messengers|The Way of All Flesh|               metal|\n",
            "|Napalm Death|000Silenced|On the Brink of E...|Time Waits For No...|           grindcore|\n",
            "+------------+-----------+--------------------+--------------------+--------------------+\n",
            "only showing top 20 rows\n",
            "\n"
          ]
        }
      ]
    },
    {
      "cell_type": "markdown",
      "metadata": {
        "id": "yM_f5qILBNeI"
      },
      "source": [
        "**Query #6**\n",
        "\n",
        "find top 10 users who are fan of ***pop*** music"
      ]
    },
    {
      "cell_type": "code",
      "metadata": {
        "id": "dognQVlxBi2n",
        "colab": {
          "base_uri": "https://localhost:8080/"
        },
        "outputId": "3a864f3d-4b98-4693-80f3-b360374332ed"
      },
      "source": [
        "datum_df.select('user_id').filter(col('genre')=='pop').groupBy('user_id').agg(count('*').alias('cnt')).orderBy(desc('cnt')).limit(10).show()"
      ],
      "execution_count": 43,
      "outputs": [
        {
          "output_type": "stream",
          "name": "stdout",
          "text": [
            "+---------------+---+\n",
            "|        user_id|cnt|\n",
            "+---------------+---+\n",
            "|        01Green|496|\n",
            "|      momousagi|400|\n",
            "|          mrpsb|400|\n",
            "|   BlueKnockOut|378|\n",
            "|    musicboy80s|376|\n",
            "|  incultojurgis|374|\n",
            "| ElektricOrchid|370|\n",
            "|foreign_fanatic|350|\n",
            "|   Kevin_Soutar|346|\n",
            "|  landrover2171|301|\n",
            "+---------------+---+\n",
            "\n"
          ]
        }
      ]
    },
    {
      "cell_type": "markdown",
      "metadata": {
        "id": "63quzy7t-zb7"
      },
      "source": [
        "**Query #7**\n",
        "\n",
        "find top 10 famous genres"
      ]
    },
    {
      "cell_type": "code",
      "metadata": {
        "id": "aDFcoPPk-Rhf",
        "colab": {
          "base_uri": "https://localhost:8080/"
        },
        "outputId": "732fe902-5a69-4934-f76e-c116843e0dba"
      },
      "source": [
        "datum_df.select('genre').groupBy('genre').agg(count('*').alias('cnt')).orderBy(desc('cnt')).limit(10).show()"
      ],
      "execution_count": 45,
      "outputs": [
        {
          "output_type": "stream",
          "name": "stdout",
          "text": [
            "+----------+-------+\n",
            "|     genre|    cnt|\n",
            "+----------+-------+\n",
            "|      rock|2691934|\n",
            "|       pop|1544747|\n",
            "|electronic| 551509|\n",
            "|   hip hop| 532984|\n",
            "|      folk| 438174|\n",
            "|indie rock| 431439|\n",
            "|      punk| 380915|\n",
            "|       r&b| 344101|\n",
            "|     metal| 208107|\n",
            "|     indie| 206726|\n",
            "+----------+-------+\n",
            "\n"
          ]
        }
      ]
    },
    {
      "cell_type": "markdown",
      "metadata": {
        "id": "hrZOAWVgLMZo"
      },
      "source": [
        "# Task 5:\n",
        "**Query #8**\n",
        "\n",
        "find out each user favourite genre"
      ]
    },
    {
      "cell_type": "code",
      "metadata": {
        "id": "H3AWxlkbLvCg"
      },
      "source": [
        "q8_1="
      ],
      "execution_count": null,
      "outputs": []
    },
    {
      "cell_type": "code",
      "metadata": {
        "id": "Soy2bMxQN-Ub"
      },
      "source": [
        ""
      ],
      "execution_count": null,
      "outputs": []
    },
    {
      "cell_type": "markdown",
      "metadata": {
        "id": "6oIyhOHkCDuv"
      },
      "source": [
        "**Query #9**\n",
        "\n",
        "find out how many pop,rock,metal and hip hop singers we have\n",
        "\n",
        "and then visulize it using bar chart "
      ]
    },
    {
      "cell_type": "code",
      "metadata": {
        "id": "7_lEjNKVCDJv"
      },
      "source": [
        ""
      ],
      "execution_count": null,
      "outputs": []
    },
    {
      "cell_type": "markdown",
      "metadata": {
        "id": "h0h2SSk8InMH"
      },
      "source": [
        "Now, let's visualize the results using ***matplotlib***"
      ]
    },
    {
      "cell_type": "code",
      "metadata": {
        "id": "J-n8gOC0Imj5"
      },
      "source": [
        ""
      ],
      "execution_count": null,
      "outputs": []
    },
    {
      "cell_type": "code",
      "metadata": {
        "id": "CMigHLrEQgKv"
      },
      "source": [
        ""
      ],
      "execution_count": null,
      "outputs": []
    },
    {
      "cell_type": "code",
      "metadata": {
        "id": "FYLE4Mbu_Lbu"
      },
      "source": [
        ""
      ],
      "execution_count": null,
      "outputs": []
    },
    {
      "cell_type": "markdown",
      "metadata": {
        "id": "1iDrvEwYQ4AE"
      },
      "source": [
        "now lets visualize these two lists using a bar chart"
      ]
    },
    {
      "cell_type": "code",
      "metadata": {
        "id": "XOOq1U9BQjKI"
      },
      "source": [
        ""
      ],
      "execution_count": null,
      "outputs": []
    }
  ]
}